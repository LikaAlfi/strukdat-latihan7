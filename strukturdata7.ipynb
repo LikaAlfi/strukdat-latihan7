{
  "nbformat": 4,
  "nbformat_minor": 0,
  "metadata": {
    "colab": {
      "provenance": [],
      "authorship_tag": "ABX9TyP5AkILQDe9w6roby9bPj35",
      "include_colab_link": true
    },
    "kernelspec": {
      "name": "python3",
      "display_name": "Python 3"
    },
    "language_info": {
      "name": "python"
    }
  },
  "cells": [
    {
      "cell_type": "markdown",
      "metadata": {
        "id": "view-in-github",
        "colab_type": "text"
      },
      "source": [
        "<a href=\"https://colab.research.google.com/github/LikaAlfi/strukdat-latihan7/blob/main/strukturdata7.ipynb\" target=\"_parent\"><img src=\"https://colab.research.google.com/assets/colab-badge.svg\" alt=\"Open In Colab\"/></a>"
      ]
    },
    {
      "cell_type": "code",
      "execution_count": null,
      "metadata": {
        "colab": {
          "base_uri": "https://localhost:8080/"
        },
        "id": "jP1tAzz9puGz",
        "outputId": "62b9b858-74a7-40a7-dd4b-569bcf53e61e"
      },
      "outputs": [
        {
          "output_type": "stream",
          "name": "stdout",
          "text": [
            "Hasil inorder traversal dari binary tree:\n",
            "42513"
          ]
        }
      ],
      "source": [
        "class Node:\n",
        "  def __init__ (self, data):\n",
        "    self.data = data\n",
        "    self.left = None\n",
        "    self.right = None\n",
        "# Membuat tree secara manual\n",
        "root = Node(1)\n",
        "root.left = Node (2)\n",
        "root.right = Node (3)\n",
        "root.left.left = Node (4)\n",
        "root.left.right = Node (5)\n",
        "# Fungsi inorder traversal\n",
        "def inorder (node):\n",
        "  if node:\n",
        "    inorder (node.left)\n",
        "    print (node.data, end='')\n",
        "    inorder (node.right)\n",
        "\n",
        "print(\"Hasil inorder traversal dari binary tree:\")\n",
        "inorder(root)"
      ]
    },
    {
      "cell_type": "code",
      "source": [
        "class Node:\n",
        "  def __init__ (self, data):\n",
        "    self.data = data\n",
        "    self.left = None\n",
        "    self.right = None\n",
        "\n",
        "class BinarySearchTree:\n",
        "  def __init__ (self):\n",
        "    self.root = None\n",
        "\n",
        "  def insert(self, root, data):\n",
        "    if root is None:\n",
        "      return Node(data)\n",
        "    if data < root.data:\n",
        "      root.left = self.insert(root.left, data)\n",
        "    else:\n",
        "      root.right = self.insert(root.right, data)\n",
        "    return root\n",
        "\n",
        "bst = BinarySearchTree()\n",
        "root = None\n",
        "data_list = [50, 30, 70, 20, 40, 60, 80]\n",
        "for value in data_list:\n",
        "  root = bst.insert(root, value)"
      ],
      "metadata": {
        "id": "BuzcUIPXvjir"
      },
      "execution_count": null,
      "outputs": []
    },
    {
      "cell_type": "code",
      "source": [
        "def inorder (node):\n",
        "  if node:\n",
        "    inorder (node.left)\n",
        "    print(node.data, end=' ')\n",
        "    inorder(node.right)\n",
        "\n",
        "def preorder(node):\n",
        "  if node:\n",
        "    print(node.data, end=' ')\n",
        "    preorder (node.left)\n",
        "    preorder (node.right)\n",
        "\n",
        "def postorder(node):\n",
        "  if node:\n",
        "    postorder (node.left)\n",
        "    postorder(node.right)\n",
        "    print(node.data, end=' ')\n",
        "\n",
        "print(\"Inorder Traversal:\")\n",
        "inorder(root)\n",
        "print(\"\\nPreorder Traversal:\")\n",
        "preorder(root)\n",
        "print(\"\\nPostorder Traversal:\")\n",
        "postorder (root)\n"
      ],
      "metadata": {
        "colab": {
          "base_uri": "https://localhost:8080/"
        },
        "id": "T8iZ25zIxB4E",
        "outputId": "8816bf2a-6e97-4680-910b-03d3c72e27e7"
      },
      "execution_count": null,
      "outputs": [
        {
          "output_type": "stream",
          "name": "stdout",
          "text": [
            "Inorder Traversal:\n",
            "20 30 40 50 60 70 80 \n",
            "Preorder Traversal:\n",
            "50 30 20 40 70 60 80 \n",
            "Postorder Traversal:\n",
            "20 40 30 60 80 70 50 "
          ]
        }
      ]
    },
    {
      "cell_type": "code",
      "source": [
        "def search (node, key) :\n",
        "  if node is None or node.data == key:\n",
        "    return node\n",
        "  if key < node.data:\n",
        "    return search(node.left, key)\n",
        "  return search(node.right, key)\n",
        "\n",
        "# Uji pencarian\n",
        "key = 60\n",
        "result = search (root, key)\n",
        "if result:\n",
        "  print (f\"{key} ditemukan dalam tree.\")\n",
        "else:\n",
        "  print (f\"{key} tidak ditemukan.\")\n",
        "\n",
        "key = 25\n",
        "result = search(root, key)\n",
        "if result:\n",
        "  print (f\"{key} ditemukan dalam tree.\")\n",
        "else:\n",
        "  print (f\"{key} tidak ditemukan.\")\n"
      ],
      "metadata": {
        "colab": {
          "base_uri": "https://localhost:8080/"
        },
        "id": "rRloGu08y7_G",
        "outputId": "234e6942-b406-4012-8d7e-e35182c1eae9"
      },
      "execution_count": null,
      "outputs": [
        {
          "output_type": "stream",
          "name": "stdout",
          "text": [
            "60 ditemukan dalam tree.\n",
            "25 tidak ditemukan.\n"
          ]
        }
      ]
    },
    {
      "cell_type": "code",
      "source": [
        "# Program Binary Search Tree (BST) berdasarkan data pribadi\n",
        "\n",
        "# Definisi node BST\n",
        "class Node:\n",
        "    def __init__(self, data):\n",
        "        self.data = data\n",
        "        self.left = None\n",
        "        self.right = None\n",
        "\n",
        "# Fungsi untuk menyisipkan data ke BST\n",
        "def insert(root, data):\n",
        "    if root is None:\n",
        "        return Node(data)\n",
        "    elif data < root.data:\n",
        "        root.left = insert(root.left, data)\n",
        "    else:\n",
        "        root.right = insert(root.right, data)\n",
        "    return root\n",
        "\n",
        "# Fungsi traversal inorder (kiri, akar, kanan)\n",
        "def inorder(node):\n",
        "    if node:\n",
        "        inorder(node.left)\n",
        "        print(node.data, end=' ')\n",
        "        inorder(node.right)\n",
        "\n",
        "# Fungsi traversal preorder (akar, kiri, kanan)\n",
        "def preorder(node):\n",
        "    if node:\n",
        "        print(node.data, end=' ')\n",
        "        preorder(node.left)\n",
        "        preorder(node.right)\n",
        "\n",
        "# Fungsi traversal postorder (kiri, kanan, akar)\n",
        "def postorder(node):\n",
        "    if node:\n",
        "        postorder(node.left)\n",
        "        postorder(node.right)\n",
        "        print(node.data, end=' ')\n",
        "\n",
        "# Fungsi pencarian dalam BST\n",
        "def search(node, target):\n",
        "    if node is None:\n",
        "        return False\n",
        "    if node.data == target:\n",
        "        return True\n",
        "    elif target < node.data:\n",
        "        return search(node.left, target)\n",
        "    else:\n",
        "        return search(node.right, target)\n",
        "\n",
        "# Data pribadi\n",
        "npm = \"2304101234\"\n",
        "tanggal_lahir = \"15-04\"\n",
        "nama_depan = \"Budi\"\n",
        "angka_favorit1 = 7\n",
        "angka_favorit2 = 99\n",
        "\n",
        "# Buat list angka\n",
        "angka1 = int(npm[-3:])                  # 3 digit terakhir NPM\n",
        "angka2 = int(tanggal_lahir.split(\"-\")[0])  # Tanggal lahir (DD)\n",
        "angka3 = int(tanggal_lahir.split(\"-\")[1])  # Bulan lahir (MM)\n",
        "ascii1 = ord(nama_depan[0])             # ASCII huruf pertama nama\n",
        "ascii2 = ord(nama_depan[1])             # ASCII huruf kedua nama\n",
        "\n",
        "data_bst = [angka1, angka2, angka3, ascii1, ascii2, angka_favorit1, angka_favorit2]\n",
        "\n",
        "# Bangun BST\n",
        "root = None\n",
        "for angka in data_bst:\n",
        "    root = insert(root, angka)\n",
        "\n",
        "# Tampilkan hasil traversal\n",
        "print(\"Inorder Traversal: \", end='')\n",
        "inorder(root)\n",
        "print(\"\\nPreorder Traversal: \", end='')\n",
        "preorder(root)\n",
        "print(\"\\nPostorder Traversal: \", end='')\n",
        "postorder(root)\n",
        "\n",
        "# Pencarian data\n",
        "target1 = int(npm[-2:])  # dua digit terakhir NPM\n",
        "target2 = 42             # angka yang tidak ada dalam list (misalnya)\n",
        "\n",
        "print(f\"\\n\\nPencarian angka {target1}: \", end='')\n",
        "print(\"Ditemukan\" if search(root, target1) else \"Tidak ditemukan\")\n",
        "\n",
        "print(f\"Pencarian angka {target2}: \", end='')\n",
        "print(\"Ditemukan\" if search(root, target2) else \"Tidak ditemukan\")\n"
      ],
      "metadata": {
        "id": "edJLQ4UxCj7u"
      },
      "execution_count": null,
      "outputs": []
    }
  ]
}